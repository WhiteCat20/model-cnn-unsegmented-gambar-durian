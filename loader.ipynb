{
 "cells": [
  {
   "cell_type": "code",
   "execution_count": 2,
   "metadata": {},
   "outputs": [],
   "source": [
    "import matplotlib.pyplot as plt\n",
    "import numpy as np\n",
    "import tensorflow as tf\n",
    "from tensorflow.keras.preprocessing import image \n",
    "import cv2\n",
    "import easygui\n",
    "from PIL import Image"
   ]
  },
  {
   "cell_type": "code",
   "execution_count": 7,
   "metadata": {},
   "outputs": [],
   "source": [
    "model = tf.keras.models.load_model('24052024-204820.keras')"
   ]
  },
  {
   "cell_type": "code",
   "execution_count": 26,
   "metadata": {},
   "outputs": [],
   "source": [
    "input_path = easygui.fileopenbox(title='Select Image File')"
   ]
  },
  {
   "cell_type": "code",
   "execution_count": 27,
   "metadata": {},
   "outputs": [],
   "source": [
    "# def show(input) :\n",
    "#  show_image = cv2.imread(str(input_path))\n",
    "#  show_image = cv2.cvtColor(show_image, cv2.COLOR_BGR2RGB)\n",
    "#  plt.title('')\n",
    "#  plt.xlabel('')\n",
    "#  plt.ylabel('')\n",
    "#  plt.xticks([])\n",
    "#  plt.yticks([])\n",
    "#  plt.axis('off')\n",
    "#  plt.imshow(show_image)\n",
    "# show(input_path)"
   ]
  },
  {
   "cell_type": "code",
   "execution_count": 28,
   "metadata": {},
   "outputs": [],
   "source": [
    "img = cv2.imread(str(input_path))\n",
    "img = cv2.resize(img,(200,200))"
   ]
  },
  {
   "cell_type": "code",
   "execution_count": 29,
   "metadata": {},
   "outputs": [],
   "source": [
    "# # Convert the image to a numpy array\n",
    "X = image.img_to_array(img)\n",
    "X = np.expand_dims(X, axis=0)"
   ]
  },
  {
   "cell_type": "code",
   "execution_count": 30,
   "metadata": {},
   "outputs": [
    {
     "name": "stdout",
     "output_type": "stream",
     "text": [
      "\u001b[1m1/1\u001b[0m \u001b[32m━━━━━━━━━━━━━━━━━━━━\u001b[0m\u001b[37m\u001b[0m \u001b[1m0s\u001b[0m 16ms/step\n",
      "unripe 1.0\n"
     ]
    }
   ],
   "source": [
    "# Make predictions\n",
    "val = model.predict(X)\n",
    "\n",
    "if val[0][0] == 1.0:\n",
    "    print(f'unripe {val[0][0]}')\n",
    "elif val[0][0] == 0 :\n",
    "    print(f'ripe {val[0][0]}')\n",
    "else :\n",
    "    print(val[0][0])\n",
    "\n",
    "# val"
   ]
  }
 ],
 "metadata": {
  "kernelspec": {
   "display_name": "Python 3",
   "language": "python",
   "name": "python3"
  },
  "language_info": {
   "codemirror_mode": {
    "name": "ipython",
    "version": 3
   },
   "file_extension": ".py",
   "mimetype": "text/x-python",
   "name": "python",
   "nbconvert_exporter": "python",
   "pygments_lexer": "ipython3",
   "version": "3.9.13"
  }
 },
 "nbformat": 4,
 "nbformat_minor": 2
}
